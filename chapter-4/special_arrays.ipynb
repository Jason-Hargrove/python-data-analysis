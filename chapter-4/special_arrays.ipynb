{
 "cells": [
  {
   "cell_type": "code",
   "execution_count": 1,
   "id": "9e79adc8-096b-47ce-bc83-194957feec0f",
   "metadata": {},
   "outputs": [],
   "source": [
    "import math\n",
    "import collections\n",
    "\n",
    "import numpy as np\n",
    "import pandas as pd\n",
    "import matplotlib.pyplot as pp\n",
    "\n",
    "%matplotlib inline"
   ]
  },
  {
   "cell_type": "code",
   "execution_count": 2,
   "id": "df16b2f1-ed01-46d4-a275-e2fc857387f2",
   "metadata": {},
   "outputs": [],
   "source": [
    "discography = np.load('discography.npy')"
   ]
  },
  {
   "cell_type": "code",
   "execution_count": 3,
   "id": "c5cbc81e-71c7-4885-9b54-defda80cbd45",
   "metadata": {},
   "outputs": [
    {
     "data": {
      "text/plain": [
       "array([('David Bowie', '1969-11-14', 17),\n",
       "       ('The Man Who Sold the World', '1970-11-04',  3),\n",
       "       ('Hunky Dory', '1971-12-17',  5),\n",
       "       ('Ziggy Stardust', '1972-06-16',  1),\n",
       "       ('Aladdin Sane', '1973-04-13',  1), ('Pin Ups', '1973-10-19',  1),\n",
       "       ('Diamond Dogs', '1974-05-24',  1),\n",
       "       ('Young Americans', '1975-03-07',  2),\n",
       "       ('Station To Station', '1976-01-23',  5),\n",
       "       ('Low', '1977-01-14',  2), ('Heroes', '1977-10-14',  3),\n",
       "       ('Lodger', '1979-05-18',  4)],\n",
       "      dtype=[('title', '<U32'), ('release', '<M8[D]'), ('toprank', '<i8')])"
      ]
     },
     "execution_count": 3,
     "metadata": {},
     "output_type": "execute_result"
    }
   ],
   "source": [
    "discography"
   ]
  },
  {
   "cell_type": "code",
   "execution_count": 4,
   "id": "a7d6120d-9833-44a6-a4dc-2de51bf17f2d",
   "metadata": {},
   "outputs": [
    {
     "data": {
      "text/plain": [
       "('David Bowie', '1969-11-14', 17)"
      ]
     },
     "execution_count": 4,
     "metadata": {},
     "output_type": "execute_result"
    }
   ],
   "source": [
    "discography[0]"
   ]
  },
  {
   "cell_type": "code",
   "execution_count": 5,
   "id": "b45e9cbc-0c6a-4c2a-8a2b-22779ae7d272",
   "metadata": {},
   "outputs": [
    {
     "data": {
      "text/plain": [
       "'David Bowie'"
      ]
     },
     "execution_count": 5,
     "metadata": {},
     "output_type": "execute_result"
    }
   ],
   "source": [
    "discography[0][0]"
   ]
  },
  {
   "cell_type": "code",
   "execution_count": 6,
   "id": "9e1c8c8e-b833-4359-b5a1-96cfe4d3e287",
   "metadata": {},
   "outputs": [
    {
     "data": {
      "text/plain": [
       "numpy.datetime64('1969-11-14')"
      ]
     },
     "execution_count": 6,
     "metadata": {},
     "output_type": "execute_result"
    }
   ],
   "source": [
    "discography[0][1]"
   ]
  },
  {
   "cell_type": "code",
   "execution_count": 7,
   "id": "2d0f114f-7c30-4c7e-aec0-cbf09abd9c3a",
   "metadata": {},
   "outputs": [
    {
     "data": {
      "text/plain": [
       "'David Bowie'"
      ]
     },
     "execution_count": 7,
     "metadata": {},
     "output_type": "execute_result"
    }
   ],
   "source": [
    "discography[0]['title']"
   ]
  },
  {
   "cell_type": "code",
   "execution_count": 8,
   "id": "46261d92-dc29-4dc9-a8bb-b1b0d46f6cbd",
   "metadata": {},
   "outputs": [
    {
     "data": {
      "text/plain": [
       "1"
      ]
     },
     "execution_count": 8,
     "metadata": {},
     "output_type": "execute_result"
    }
   ],
   "source": [
    "discography[3]['toprank']"
   ]
  },
  {
   "cell_type": "code",
   "execution_count": 11,
   "id": "33878f75-866c-4cdf-835f-9c36c318e383",
   "metadata": {},
   "outputs": [
    {
     "data": {
      "text/plain": [
       "array(['David Bowie', 'The Man Who Sold the World', 'Hunky Dory',\n",
       "       'Ziggy Stardust', 'Aladdin Sane', 'Pin Ups', 'Diamond Dogs',\n",
       "       'Young Americans', 'Station To Station', 'Low', 'Heroes', 'Lodger'],\n",
       "      dtype='<U32')"
      ]
     },
     "execution_count": 11,
     "metadata": {},
     "output_type": "execute_result"
    }
   ],
   "source": [
    "discography['title']"
   ]
  },
  {
   "cell_type": "code",
   "execution_count": 12,
   "id": "452510d5-588b-4c8e-95bc-24abdebbb30f",
   "metadata": {},
   "outputs": [],
   "source": [
    "minidisco = np.zeros(len(discography), dtype=[('title','U16'), ('release','M8[s]')])"
   ]
  },
  {
   "cell_type": "code",
   "execution_count": 13,
   "id": "2d530b4e-8902-4640-bb4d-6d95f9af0825",
   "metadata": {},
   "outputs": [],
   "source": [
    "minidisco['title'] = discography['title']\n",
    "minidisco['release'] = discography['release']"
   ]
  },
  {
   "cell_type": "code",
   "execution_count": 14,
   "id": "5378418d-5a78-4528-8edc-c447069d5a3d",
   "metadata": {},
   "outputs": [
    {
     "data": {
      "text/plain": [
       "array([('David Bowie', '1969-11-14T00:00:00'),\n",
       "       ('The Man Who Sold', '1970-11-04T00:00:00'),\n",
       "       ('Hunky Dory', '1971-12-17T00:00:00'),\n",
       "       ('Ziggy Stardust', '1972-06-16T00:00:00'),\n",
       "       ('Aladdin Sane', '1973-04-13T00:00:00'),\n",
       "       ('Pin Ups', '1973-10-19T00:00:00'),\n",
       "       ('Diamond Dogs', '1974-05-24T00:00:00'),\n",
       "       ('Young Americans', '1975-03-07T00:00:00'),\n",
       "       ('Station To Stati', '1976-01-23T00:00:00'),\n",
       "       ('Low', '1977-01-14T00:00:00'), ('Heroes', '1977-10-14T00:00:00'),\n",
       "       ('Lodger', '1979-05-18T00:00:00')],\n",
       "      dtype=[('title', '<U16'), ('release', '<M8[s]')])"
      ]
     },
     "execution_count": 14,
     "metadata": {},
     "output_type": "execute_result"
    }
   ],
   "source": [
    "minidisco"
   ]
  },
  {
   "cell_type": "code",
   "execution_count": 15,
   "id": "5e1fd012-ee25-453e-8a1e-b94faf275364",
   "metadata": {},
   "outputs": [
    {
     "data": {
      "text/plain": [
       "numpy.datetime64('1969')"
      ]
     },
     "execution_count": 15,
     "metadata": {},
     "output_type": "execute_result"
    }
   ],
   "source": [
    "np.datetime64('1969')"
   ]
  },
  {
   "cell_type": "code",
   "execution_count": 16,
   "id": "adc3c67e-490e-4f8c-8981-f051c1eaf41c",
   "metadata": {},
   "outputs": [
    {
     "data": {
      "text/plain": [
       "numpy.datetime64('1969-11-14')"
      ]
     },
     "execution_count": 16,
     "metadata": {},
     "output_type": "execute_result"
    }
   ],
   "source": [
    "np.datetime64('1969-11-14')"
   ]
  },
  {
   "cell_type": "code",
   "execution_count": 18,
   "id": "3e272cb5-49c4-4756-b10e-ba3cea07188c",
   "metadata": {},
   "outputs": [
    {
     "data": {
      "text/plain": [
       "True"
      ]
     },
     "execution_count": 18,
     "metadata": {},
     "output_type": "execute_result"
    }
   ],
   "source": [
    "np.datetime64('2015-02-03 12:00') < np.datetime64('2015-02-03 18:00')"
   ]
  },
  {
   "cell_type": "code",
   "execution_count": 19,
   "id": "316c4e7c-6f5d-4e1e-bfa7-1e51d273e4e2",
   "metadata": {},
   "outputs": [
    {
     "data": {
      "text/plain": [
       "False"
      ]
     },
     "execution_count": 19,
     "metadata": {},
     "output_type": "execute_result"
    }
   ],
   "source": [
    "np.datetime64('2015-02-03 18:00') < np.datetime64('2015-02-03 12:00')"
   ]
  },
  {
   "cell_type": "code",
   "execution_count": 20,
   "id": "410a3691-4f42-48bf-9a4f-8f7996abe381",
   "metadata": {},
   "outputs": [
    {
     "data": {
      "text/plain": [
       "array([355, 408, 182, 301, 189, 217, 287, 322, 357, 273, 581],\n",
       "      dtype='timedelta64[D]')"
      ]
     },
     "execution_count": 20,
     "metadata": {},
     "output_type": "execute_result"
    }
   ],
   "source": [
    "np.diff(discography['release'])"
   ]
  },
  {
   "cell_type": "code",
   "execution_count": 22,
   "id": "905b0650-a60a-4d7b-9aed-abd3294b5308",
   "metadata": {},
   "outputs": [
    {
     "data": {
      "text/plain": [
       "array(['2015-02-03', '2015-02-04', '2015-02-05', '2015-02-06',\n",
       "       '2015-02-07', '2015-02-08', '2015-02-09', '2015-02-10',\n",
       "       '2015-02-11', '2015-02-12', '2015-02-13', '2015-02-14',\n",
       "       '2015-02-15', '2015-02-16', '2015-02-17', '2015-02-18',\n",
       "       '2015-02-19', '2015-02-20', '2015-02-21', '2015-02-22',\n",
       "       '2015-02-23', '2015-02-24', '2015-02-25', '2015-02-26',\n",
       "       '2015-02-27', '2015-02-28'], dtype='datetime64[D]')"
      ]
     },
     "execution_count": 22,
     "metadata": {},
     "output_type": "execute_result"
    }
   ],
   "source": [
    "np.arange(np.datetime64('2015-02-03'), np.datetime64('2015-03-01'))"
   ]
  },
  {
   "cell_type": "code",
   "execution_count": null,
   "id": "5214a0c4-cea2-412a-ac01-81c8d56dad16",
   "metadata": {},
   "outputs": [],
   "source": []
  }
 ],
 "metadata": {
  "kernelspec": {
   "display_name": "Python 3 (ipykernel)",
   "language": "python",
   "name": "python3"
  },
  "language_info": {
   "codemirror_mode": {
    "name": "ipython",
    "version": 3
   },
   "file_extension": ".py",
   "mimetype": "text/x-python",
   "name": "python",
   "nbconvert_exporter": "python",
   "pygments_lexer": "ipython3",
   "version": "3.8.8"
  }
 },
 "nbformat": 4,
 "nbformat_minor": 5
}
